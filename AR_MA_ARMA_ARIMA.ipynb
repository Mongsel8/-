{
  "nbformat": 4,
  "nbformat_minor": 0,
  "metadata": {
    "colab": {
      "provenance": [],
      "toc_visible": true
    },
    "kernelspec": {
      "name": "python3",
      "display_name": "Python 3"
    },
    "language_info": {
      "name": "python"
    }
  },
  "cells": [
    {
      "cell_type": "markdown",
      "source": [
        "#AR(Autoregressive)\n",
        "AR모델은 자기회귀 모델로 **자기상관성을 시계열 모델로 구성**한 것이다. 예측하고 싶은 특정변수의 과거 자신의 데이터와 선형결합을 통해 특정 시점 이후 미래값을 예측하는 모델이다. 이름 그대로 이전 자신의 데이터가 이후 자신의 미래 관측값에 영향을 끼친다는 것을 기반으로 나온 모델이다. AR(1)에 적용하기 위해선 $-1<ϕ_1<1$ 조건이 필요하다. AR(p)의 수식은 아래와 같다. \n",
        "<br>\n",
        "<center>\n",
        "$y_t = c + ϕ_1y_{t-1} + ⋯ + ϕ_py_{t-p} + ϵ_t$\n",
        "</center>\n",
        "$y_t$는 t 시점의 관측값, c는 상수, $\\phi$는 가중치, $ϵ_t$는 오차항을 의미한다. 오차항의 평균은 0이고 분산이 1인 정규분포에서 도출된 Random한 값이다. 아래는 AR(1)모델이다.\n",
        "<center>\n",
        "$X(t) = c + a * X(t-1) + u*e(t)$\n",
        "</center> \n",
        "수식을 보면 자기 자신을 종속변수로 두고 이전의 시계열(Lag)을 독립변수로 가지고 식을 전개하는 것을 알 수 있다. "
      ],
      "metadata": {
        "id": "zd-si558XxsL"
      }
    },
    {
      "cell_type": "markdown",
      "source": [
        "#MA(Moving Average)\n",
        "MA모델은 **예측오차를 이용해 미래를 예측하는 모델**이다. MA(q)의 수식은 아래와 같다. \n",
        "<center>\n",
        "$y_t = c + θ_1\\epsilon_{t-1}+⋯+θ_1\\epsilon_{t-q}+\\epsilon_t$\n",
        "</center>\n",
        "여기서 ϵ은 오차 또는 충격을 의미하여 예측이 힘든 변수로 가정한다. 아래는 MA(1)모델이다.\n",
        "<center>\n",
        "$X(t) = x + a * \\epsilon(t-1) + u * e(t)$\n",
        "</center>\n",
        "자기 자신을 종속변수로 두고 백색잡음오차들로 독립변수를 설정하는 모델이다. MA 정의상 평균과 분산이 일정하므로 정상성을 항상 만족하게 된다. 독립 항등 분포 $\\epsilon_t$ $N(0,σ^2)$이기 때문에 아래와 같이 평균과 분산을 구할 수 있다.<br> \n",
        "1. 평균 = c\n",
        "<center>\n",
        "$E(y_t) = E(c + \\epsilon_t + \\theta_1\\epsilon_{t-1}) = c$\n",
        "</center>\n",
        "2. 분산 = 상수\n",
        "<center>\n",
        "$Var(y_t) = Var(c + \\epsilon_t + \\theta_1\\epsilon_{t-1}) = Var(\\epsilon_t)+\\theta^2Var(\\epsilon_{t-1}) = (1+\\theta_1^2)σ^2$ \n",
        "</center>"
      ],
      "metadata": {
        "id": "uTFftag0ZvVQ"
      }
    },
    {
      "cell_type": "markdown",
      "source": [
        "#ARMA(Autoregressive and Moving Average)\n",
        "ARMA 모델은 AR과 MA모델을 합친 것이다. 아래는 ARMA(p,q)모델의 수식이다. 만약 AR(1,0)이라면 AR(1)과 같고 ARMA(0,1)이면 MA(1)과 같다. \n",
        "<center>\n",
        "$y_t = c + ϕ_1y_{t-1} + ⋯ + ϕ_py_{t-p}+θ_1\\epsilon_{t-1}+⋯+θ_1\\epsilon_{t-q}+\\epsilon_t$\n",
        "</center>\n",
        "ARMA(1,1) 모델은 다음과 같다. \n",
        "<center>\n",
        "$X(t) = c + a * X(t-1) + b * \\epsilon(t-1)+ u*e(t)$\n",
        "</center> \n",
        "ARMA(2,2)모델은 다음과 같다.\n",
        "<center>\n",
        "$X(t) = c + a_1 * X(t-1) + a_2 * X(t-2) + b_1 * \\epsilon(t-1)+b_2 * \\epsilon(t-2)+ u*e(t)$\n",
        "</center>\n"
      ],
      "metadata": {
        "id": "jOj3sE4Ge3eq"
      }
    },
    {
      "cell_type": "markdown",
      "source": [
        "#ARIMA Autoregressive Integrated  Moving Average)\n",
        "마지막으로 ARIMA 모델이다. ARMA모델의 과거데이터들을 사용하는 거에 반해 ARIMA 모델은 과거의 데이터가 지니고 있던 **추세(Momentom)**까지 반영한다. 여기서 추세는 자기 자신(정상데이터)의 추세만 반응하여 백색잡음은 고려하지 않는다. Correlation 뿐 아니라 Cointegration까지 고려한 모델이다. 실존하는 시계열데이터는 비정상성인 경우가 많다. 그런데 Auto regressive 모델과 moving average 모델, Auto regressive and Moving average 모델은 이러한 불안정성을 설명할 수가 없다. 따라서 모델 그자체에 이러한 비정상성을 제거하는 과정을 포함한 것이 ARIMA모델이다. ARIMA(p,d,q) 수식은 아래와 같다. d는 차분 횟수이다. \n",
        "<center>\n",
        "$y^`_t = c + ϕ_1y^`_{t-1} + ⋯ + ϕ_py^`_{t-p}+θ_1\\epsilon_{t-1}+⋯+θ_1\\epsilon_{t-q}+\\epsilon_t$\n",
        "</center>\n",
        "$y^`$은 차분한 시계열 데이터이다. ARIMA(1,1,1) 모델은 다음과 같다.\n",
        "<center>\n",
        "$X(t) =  [X(t-1) + b * X(t-1) + c * e(t-1) + d + u * e(t)] /a$ \n",
        "</center>\n",
        "\n"
      ],
      "metadata": {
        "id": "PMnpZDKagzfp"
      }
    },
    {
      "cell_type": "code",
      "source": [],
      "metadata": {
        "id": "qoMh3Txq0Smr"
      },
      "execution_count": null,
      "outputs": []
    }
  ]
}