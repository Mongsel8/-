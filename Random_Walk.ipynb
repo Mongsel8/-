{
  "nbformat": 4,
  "nbformat_minor": 0,
  "metadata": {
    "colab": {
      "provenance": []
    },
    "kernelspec": {
      "name": "python3",
      "display_name": "Python 3"
    },
    "language_info": {
      "name": "python"
    }
  },
  "cells": [
    {
      "cell_type": "markdown",
      "source": [
        "#Random Walk란?"
      ],
      "metadata": {
        "id": "deXp8C2qgHuo"
      }
    },
    {
      "cell_type": "markdown",
      "source": [
        "##정의"
      ],
      "metadata": {
        "id": "wk-mmN00uj-I"
      }
    },
    {
      "cell_type": "markdown",
      "source": [
        "시계열 데이터 $X_t$가 아래와 같은 모형을 따른다고 해보자.<br>\n",
        " - $X_t$ = $X_{t-1}$ + $Z_t$\n",
        " - $X_t = \\mu + X_{t-1} + Z_t$\n",
        "\n",
        "($\\mu = E(X_t - X_{t-1})$, $Z_t$는 평균이 0이고 분산이 $\\sigma^2$인 백색잡음, $X_0$은 초기값)<br>\n",
        "<br>\n",
        "$Z_t$가 대칭분포인 경우 이전 데이터 값 $X_{t-1}$가 주어졌을 때 그 다음 데이터 값 $X_t$가 높아지거나 낮아질 확률이 0.5여서 백색잡음 이라고 함.<br>\n",
        "<br>\n",
        "Random Walk를 자기 회귀모형식으로 표현하면 $AR(1)$이 되고 그 계수가 1인 것을 알 수 있으며 이는 정상성(stationary)를 만족하지 않는다. \n",
        "- $(1-\\phi_1B)X_t = Z_t$\n",
        "\n",
        "$Phi_1 = 1$<br>\n",
        "이때 특정방정식\n",
        " - $1-\\phi z = 0$\n",
        "\n",
        "은 $\\phi_1 = 1$ 인 경우 근은 $z = 1$이며 단위근(Unit Root)을 가진다고 한다. 또한 단위근을 가지는 경우 Random Walk 를 단위근 비정상성 모형이라고 한다. <br>\n",
        "<br>\n",
        "단위근이 문제가 되는 이유는 $\\phi_1$추정치에 편향이 생기며 다변량 시계열 분석시 두 시계열에 실제로 관계가 없지만 관계가 있는 가짜회귀 모형을 만들 수 있다고 한다."
      ],
      "metadata": {
        "id": "Kz8IacexumVF"
      }
    },
    {
      "cell_type": "markdown",
      "source": [
        "##성질\n",
        "\n",
        "1. Random Walk는 예측 불가능하다.\n",
        "2. Random Walk의 예측 오차 분산은 무한대로 발산한다.\n",
        "\n",
        "Random Walk $X_t$의 예측 오차 분산을 계산하기 위해 $X_t$를 백색잡음 $Z_t$로 표현하면 $X_t = X_0 + Z_t + \\cdots + Z_1$ 이다. Random Walk with Drift의 경우는 $X_t = t\\mu + X_0 +  Z_t + \\cdots + Z_1$ 보통 백색잡음을 충격(Shock)이라고도 하는데 위의 표현식이 이야기해주는 것은 과거 충격효과가 현재에도 그대로 영향을 미친다는 것을 의미한다. 이는 시계열이 강한 기억(Strong Memory) 성질을 가지고 있다는 것이다.<br>\n",
        "<br>\n",
        "n+l 시점의 예측값에 대한 예측 오차 e_{n+l,n} = X_{n+l}-X_{n+l,n}의 분산은 다음과 같다. \n",
        " - $Var(e_{n+l,n})$ = $Var(X_{n+l}-X_{n+l,n})$ = $Var(Z_{n+l} + \\cdots Z_{n+1})$ = $l\\sigma^2$\n",
        "\n",
        "Random Walk with Drift 모형의 경우는<br>\n",
        "$Var(e_{n+l,n})$ = $Var(X_{n+l}-X_{n+l,n})$ = $Var(lμ+Z_{n+l} + \\cdots Z_{n+1})$ = $l\\sigma^2$\n",
        "<br> \n",
        "어느 경우에나 예측 분산은 시점 l이 커짐에 따라 무한대로 발산하는 것을 알 수 있다. 예측 분산이 무한대로 발산한다는 것은 $X_{n+l}$이 어떠한 값도 가질 수 있다는 것을 의미하므로 예측치 $X_{n+l,n}$ 이 시점 l이 커질수록 유용하지 않다는 것을 의미한다."
      ],
      "metadata": {
        "id": "ttKfo-53z_k3"
      }
    },
    {
      "cell_type": "code",
      "source": [
        "import numpy as np\n",
        "import matplotlib.pyplot as plt\n",
        "import random as r"
      ],
      "metadata": {
        "id": "9DPMETuw3Hjy"
      },
      "execution_count": 2,
      "outputs": []
    },
    {
      "cell_type": "code",
      "source": [
        "lst = []\n",
        "lst.append(0)\n",
        "for i in range(100):\n",
        "  random = r.randint(1,100)\n",
        "  if random % 2 == 0 :\n",
        "    lst.append(random*1)\n",
        "  else:\n",
        "    lst.append(random*-1)"
      ],
      "metadata": {
        "id": "dgkph6qV3Tma"
      },
      "execution_count": 6,
      "outputs": []
    },
    {
      "cell_type": "code",
      "source": [
        "lst"
      ],
      "metadata": {
        "colab": {
          "base_uri": "https://localhost:8080/"
        },
        "id": "6wVJnJNu31-C",
        "outputId": "a2019fa3-c744-4217-f7f0-e925dd61ae5c"
      },
      "execution_count": 7,
      "outputs": [
        {
          "output_type": "execute_result",
          "data": {
            "text/plain": [
              "[0,\n",
              " 98,\n",
              " 66,\n",
              " 10,\n",
              " -5,\n",
              " -61,\n",
              " 78,\n",
              " -31,\n",
              " -21,\n",
              " -5,\n",
              " -21,\n",
              " -17,\n",
              " -75,\n",
              " 54,\n",
              " -17,\n",
              " 60,\n",
              " -53,\n",
              " -35,\n",
              " -79,\n",
              " -31,\n",
              " 12,\n",
              " -79,\n",
              " -5,\n",
              " -57,\n",
              " 56,\n",
              " 4,\n",
              " 56,\n",
              " 46,\n",
              " 42,\n",
              " 60,\n",
              " 38,\n",
              " 2,\n",
              " 20,\n",
              " 62,\n",
              " 32,\n",
              " 66,\n",
              " -73,\n",
              " -95,\n",
              " 70,\n",
              " -39,\n",
              " -45,\n",
              " -87,\n",
              " 70,\n",
              " -91,\n",
              " 70,\n",
              " 56,\n",
              " -29,\n",
              " 16,\n",
              " -61,\n",
              " 48,\n",
              " -17,\n",
              " -57,\n",
              " 44,\n",
              " 90,\n",
              " 18,\n",
              " -49,\n",
              " 30,\n",
              " 22,\n",
              " 70,\n",
              " 50,\n",
              " 84,\n",
              " -19,\n",
              " -21,\n",
              " 50,\n",
              " -75,\n",
              " 56,\n",
              " -57,\n",
              " 42,\n",
              " -27,\n",
              " 100,\n",
              " -65,\n",
              " 50,\n",
              " -25,\n",
              " 52,\n",
              " -97,\n",
              " -21,\n",
              " -81,\n",
              " 32,\n",
              " -87,\n",
              " 14,\n",
              " -39,\n",
              " -5,\n",
              " 40,\n",
              " -89,\n",
              " -95,\n",
              " 40,\n",
              " 52,\n",
              " -99,\n",
              " 68,\n",
              " 48,\n",
              " 54,\n",
              " -3,\n",
              " 14,\n",
              " -95,\n",
              " 20,\n",
              " 76,\n",
              " 66,\n",
              " -9,\n",
              " -11,\n",
              " -5,\n",
              " 32]"
            ]
          },
          "metadata": {},
          "execution_count": 7
        }
      ]
    },
    {
      "cell_type": "code",
      "source": [
        "fig = plt.figure(figsize = (10,6))\n",
        "ax = fig.add_subplot(111)\n",
        "ax.plot(lst, marker = 'o',markerfacecolor = 'red',color = 'blue')\n",
        "plt.show()"
      ],
      "metadata": {
        "colab": {
          "base_uri": "https://localhost:8080/",
          "height": 374
        },
        "id": "klgRf9jl38f5",
        "outputId": "78a44cef-3a6a-4988-c459-b89ce990067f"
      },
      "execution_count": 11,
      "outputs": [
        {
          "output_type": "display_data",
          "data": {
            "text/plain": [
              "<Figure size 720x432 with 1 Axes>"
            ],
            "image/png": "[encoded data removed]"
          },
          "metadata": {
            "needs_background": "light"
          }
        }
      ]
    },
    {
      "cell_type": "code",
      "source": [
        "np.array(lst).mean()"
      ],
      "metadata": {
        "colab": {
          "base_uri": "https://localhost:8080/"
        },
        "id": "-BPdrkFE5Exi",
        "outputId": "874992e9-fa90-423f-f66e-55636eb52003"
      },
      "execution_count": 12,
      "outputs": [
        {
          "output_type": "execute_result",
          "data": {
            "text/plain": [
              "2.4356435643564356"
            ]
          },
          "metadata": {},
          "execution_count": 12
        }
      ]
    },
    {
      "cell_type": "markdown",
      "source": [
        "평균은 시점이 커질수록 0으로 수렴하게 된다."
      ],
      "metadata": {
        "id": "Dk776bVj5XDZ"
      }
    },
    {
      "cell_type": "code",
      "source": [
        "np.array(lst).var()"
      ],
      "metadata": {
        "colab": {
          "base_uri": "https://localhost:8080/"
        },
        "id": "sOaRs_Pv5Mry",
        "outputId": "eacc0e30-101f-4d87-f4a4-f4bc080a6fb3"
      },
      "execution_count": 13,
      "outputs": [
        {
          "output_type": "execute_result",
          "data": {
            "text/plain": [
              "2995.7706107244385"
            ]
          },
          "metadata": {},
          "execution_count": 13
        }
      ]
    },
    {
      "cell_type": "markdown",
      "source": [
        "시점이 커질수록 분산은 더욱 더 커져서 발산하게 됨."
      ],
      "metadata": {
        "id": "qnEtxYC85R4r"
      }
    }
  ]
}