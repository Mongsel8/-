{
  "nbformat": 4,
  "nbformat_minor": 0,
  "metadata": {
    "colab": {
      "provenance": [],
      "authorship_tag": "ABX9TyNURIRRk7WgAe6A2wJk+PRv",
      "include_colab_link": true
    },
    "kernelspec": {
      "name": "python3",
      "display_name": "Python 3"
    },
    "language_info": {
      "name": "python"
    }
  },
  "cells": [
    {
      "cell_type": "markdown",
      "metadata": {
        "id": "view-in-github",
        "colab_type": "text"
      },
      "source": [
        "<a href=\"https://colab.research.google.com/github/Mongsel8/Data-Anaysis/blob/main/PCALDASVD.ipynb\" target=\"_parent\"><img src=\"https://colab.research.google.com/assets/colab-badge.svg\" alt=\"Open In Colab\"/></a>"
      ]
    },
    {
      "cell_type": "markdown",
      "source": [
        "#PCA, LDA, SVD"
      ],
      "metadata": {
        "id": "BAq-3gt_TzS3"
      }
    },
    {
      "cell_type": "code",
      "execution_count": null,
      "metadata": {
        "id": "j_yFeFkUTx11"
      },
      "outputs": [],
      "source": [
        "import numpy as np\n",
        "import pandas as pd\n",
        "import matplotlib.pyplot as plt\n",
        "import seaborn as sns\n",
        "from sklearn.decomposition import PCA\n",
        "\n",
        "from sklearn.tree import DecisionTreeRegressor\n",
        "import pydataset\n",
        "\n",
        "\n",
        "mpg = pydataset.data('mpg')\n",
        "\n",
        "a=mpg.manufacturer.unique()\n",
        "img=mpg['manufacturer'].value_counts()[:5]\n",
        "img=pd.DataFrame(img).reset_index()\n",
        "sns.barplot(data = img,x = 'index',y = 'manufacturer')\n",
        "\n",
        "\n",
        "\n",
        "from sklearn.discriminant_analysis import LinearDiscriminantAnalysis\n",
        "from sklearn.preprocessing import StandardScaler\n",
        "from sklearn.datasets import load_iris\n",
        "from sklearn.decomposition import TruncatedSVD\n",
        "\n",
        "\n",
        "iris = load_iris()\n",
        "x=iris.data\n",
        "y = iris.target\n",
        "\n",
        "scaler = StandardScaler()\n",
        "x_s = scaler.fit_transform(x)\n",
        "\n",
        "lda = LinearDiscriminantAnalysis(n_components=2)\n",
        "iris_lda = lda.fit_transform(x_s,y)\n",
        "\n",
        "tsvd = TruncatedSVD(n_components=2)\n",
        "iris_tsvd = tsvd.fit_transform(x_s,y)"
      ]
    }
  ]
}