{
  "nbformat": 4,
  "nbformat_minor": 0,
  "metadata": {
    "colab": {
      "provenance": []
    },
    "kernelspec": {
      "name": "python3",
      "display_name": "Python 3"
    },
    "language_info": {
      "name": "python"
    }
  },
  "cells": [
    {
      "cell_type": "markdown",
      "source": [
        "#그레인저 인과관계 모형(granger casuality model)"
      ],
      "metadata": {
        "id": "aBFrfzdCX_1e"
      }
    },
    {
      "cell_type": "markdown",
      "source": [
        "##의미 <br>\n",
        "X라는 사건과 Y라는 사건이 서로 인과관계에 있는 지 확인하는 모형. <br>\n",
        "어떤 현상의 예측에 있어서 다른 정보를 이용하는 것이 얼마나 유의미한지 나타내는 척도"
      ],
      "metadata": {
        "id": "pF7K8R6lYIK_"
      }
    },
    {
      "cell_type": "markdown",
      "source": [
        "##수행순서\n",
        " - 사건 X와 Y를 설정한다.\n",
        " - X -> Y일때의 가설검정을 수행한다.\n",
        " - Y -> X일때의 가설검정을 수행한다.\n",
        " "
      ],
      "metadata": {
        "id": "rnHS7yIHYaU4"
      }
    },
    {
      "cell_type": "markdown",
      "source": [
        "##가설 검정\n",
        "가설 검정은 A/B 가설검정과 같음(귀무가설 대립가설) "
      ],
      "metadata": {
        "id": "JYd3FLu1ZWee"
      }
    },
    {
      "cell_type": "markdown",
      "source": [
        "##결과 해석\n",
        "한방향으로만 유의미하면 인과관계가 성립힌다."
      ],
      "metadata": {
        "id": "hQ7y18j4Y0zf"
      }
    },
    {
      "cell_type": "code",
      "source": [
        "import pandas as pd\n",
        "\n",
        "df_corona = pd.read_csv('/content/sample_data/서울시 코로나19 확진자 발생동향.csv', encoding = 'euc-kr')\n",
        "df_trading_20 = pd.read_excel('/content/sample_data/월간무역동향(202001_202012).xlsx')\n",
        "df_trading_21 = pd.read_excel('/content/sample_data/월간무역동향(202101_202112).xlsx')\n",
        "df_trading_22 = pd.read_excel('/content/sample_data/월간무역동향(202201_202207).xlsx')"
      ],
      "metadata": {
        "id": "e7RNZ7mPY8Nu"
      },
      "execution_count": 12,
      "outputs": []
    },
    {
      "cell_type": "code",
      "source": [
        "temp = []\n",
        "for i in range(len(df_trading_20.columns)):\n",
        "  temp.append(df_trading_20.columns[i].replace('<br>',' ').replace('\\n',' '))\n",
        "df_trading_20.columns = temp"
      ],
      "metadata": {
        "id": "FVyAURb_a4K-"
      },
      "execution_count": 20,
      "outputs": []
    },
    {
      "cell_type": "code",
      "source": [
        "temp = []\n",
        "for i in range(len(df_trading_21.columns)):\n",
        "  temp.append(df_trading_21.columns[i].replace('<br>',' ').replace('\\n',' '))\n",
        "df_trading_21.columns = temp"
      ],
      "metadata": {
        "id": "bN0aeELMa5n2"
      },
      "execution_count": 21,
      "outputs": []
    },
    {
      "cell_type": "code",
      "source": [
        "temp = []\n",
        "for i in range(len(df_trading_22.columns)):\n",
        "  temp.append(df_trading_22.columns[i].replace('<br>',' ').replace('\\n',' '))\n",
        "df_trading_22.columns = temp"
      ],
      "metadata": {
        "id": "kqfMeA_Aa7z1"
      },
      "execution_count": 22,
      "outputs": []
    },
    {
      "cell_type": "code",
      "source": [
        "date_2020 = []\n",
        "for i in range(1,13):\n",
        "  date_2020.append('2020.'+str(i).zfill(2))\n",
        "date_2021 = []\n",
        "for i in range(1,13):\n",
        "  date_2021.append('2021.'+str(i).zfill(2))\n",
        "date_2022 = []\n",
        "for i in range(1,8):\n",
        "  date_2022.append('2022.'+str(i).zfill(2))"
      ],
      "metadata": {
        "id": "Bm2ZmpLYbFTu"
      },
      "execution_count": 23,
      "outputs": []
    },
    {
      "cell_type": "code",
      "source": [
        "export_2020 = [] \n",
        "for i in range(1,13):\n",
        "  date = '수출금액 (불) (2020'+str(i).zfill(2)+')'\n",
        "  export_2020.append(int(df_trading_20[date].iloc[0].replace(',',''))/10000000)\n",
        "export_2021 = [] \n",
        "for i in range(1,13):\n",
        "  date = '수출금액 (불) (2021'+str(i).zfill(2)+')'\n",
        "  export_2021.append(int(df_trading_21[date].iloc[0].replace(',',''))/10000000)\n",
        "export_2022 = [] \n",
        "for i in range(1,8):\n",
        "  date = '수출금액 (불) (2022'+str(i).zfill(2)+')'\n",
        "  export_2022.append(int(df_trading_22[date].iloc[0].replace(',',''))/10000000)"
      ],
      "metadata": {
        "id": "xiQpwBA3bWFe"
      },
      "execution_count": 24,
      "outputs": []
    },
    {
      "cell_type": "code",
      "source": [
        "sum_2020 = []\n",
        "for i in range(1,13):\n",
        "  date = '2020.'+str(i).zfill(2)\n",
        "  sum_2020.append(df_corona[df_corona['서울시 기준일'].str[:7] == date]['서울시 추가 확진'].sum())\n",
        "sum_2021 = []\n",
        "for i in range(1,13):\n",
        "  date = '2021.'+str(i).zfill(2)\n",
        "  sum_2021.append(df_corona[df_corona['서울시 기준일'].str[:7] == date]['서울시 추가 확진'].sum())\n",
        "sum_2022 = []\n",
        "for i in range(1,8):\n",
        "  date = '2022.'+str(i).zfill(2)\n",
        "  sum_2022.append(df_corona[df_corona['서울시 기준일'].str[:7] == date]['서울시 추가 확진'].sum())"
      ],
      "metadata": {
        "id": "uqbnK2hdcdIu"
      },
      "execution_count": 17,
      "outputs": []
    },
    {
      "cell_type": "code",
      "source": [
        "data = pd.DataFrame({'export' : export_2020+export_2021+export_2022, 'corona' : sum_2020+sum_2021+sum_2022},index = date_2020+date_2021+date_2022)"
      ],
      "metadata": {
        "id": "Wyfne5KDhMhe"
      },
      "execution_count": 27,
      "outputs": []
    },
    {
      "cell_type": "code",
      "source": [
        "data"
      ],
      "metadata": {
        "colab": {
          "base_uri": "https://localhost:8080/",
          "height": 1000
        },
        "id": "UVqkONNOhjp9",
        "outputId": "0391d39c-5aaf-4d0f-b2e1-943f0ce63799"
      },
      "execution_count": 28,
      "outputs": [
        {
          "output_type": "execute_result",
          "data": {
            "text/plain": [
              "              export   corona\n",
              "2020.01  4310.306086        0\n",
              "2020.02  4091.181880        0\n",
              "2020.03  4616.720385        0\n",
              "2020.04  3627.018284        7\n",
              "2020.05  3485.451140      228\n",
              "2020.06  3921.407063      451\n",
              "2020.07  4278.514405      288\n",
              "2020.08  3946.923058     2267\n",
              "2020.09  4781.994752     1424\n",
              "2020.10  4481.853443      719\n",
              "2020.11  4575.188323     2802\n",
              "2020.12  5133.244940    10209\n",
              "2021.01  4800.697370     5168\n",
              "2021.02  4470.690692     4083\n",
              "2021.03  5369.091432     3803\n",
              "2021.04  5122.599140     5811\n",
              "2021.05  5072.516125     6303\n",
              "2021.06  5477.890495     6075\n",
              "2021.07  5546.151816    14377\n",
              "2021.08  5316.510379    15019\n",
              "2021.09  5591.386237    21148\n",
              "2021.10  5566.037264    19123\n",
              "2021.11  6033.054226    34711\n",
              "2021.12  6073.411667    70977\n",
              "2022.01  5546.086528    52140\n",
              "2022.02  5415.431273   498842\n",
              "2022.03  6378.507849  1983383\n",
              "2022.04  5784.915695   722562\n",
              "2022.05  6157.989095   135270\n",
              "2022.06  5762.585565    49289\n",
              "2022.07  6069.957707   312023"
            ],
            "text/html": [
              "\n",
              "  <div id=\"df-d63a5a06-ef56-40ee-934d-ff8013b4fb72\">\n",
              "    <div class=\"colab-df-container\">\n",
              "      <div>\n",
              "<style scoped>\n",
              "    .dataframe tbody tr th:only-of-type {\n",
              "        vertical-align: middle;\n",
              "    }\n",
              "\n",
              "    .dataframe tbody tr th {\n",
              "        vertical-align: top;\n",
              "    }\n",
              "\n",
              "    .dataframe thead th {\n",
              "        text-align: right;\n",
              "    }\n",
              "</style>\n",
              "<table border=\"1\" class=\"dataframe\">\n",
              "  <thead>\n",
              "    <tr style=\"text-align: right;\">\n",
              "      <th></th>\n",
              "      <th>export</th>\n",
              "      <th>corona</th>\n",
              "    </tr>\n",
              "  </thead>\n",
              "  <tbody>\n",
              "    <tr>\n",
              "      <th>2020.01</th>\n",
              "      <td>4310.306086</td>\n",
              "      <td>0</td>\n",
              "    </tr>\n",
              "    <tr>\n",
              "      <th>2020.02</th>\n",
              "      <td>4091.181880</td>\n",
              "      <td>0</td>\n",
              "    </tr>\n",
              "    <tr>\n",
              "      <th>2020.03</th>\n",
              "      <td>4616.720385</td>\n",
              "      <td>0</td>\n",
              "    </tr>\n",
              "    <tr>\n",
              "      <th>2020.04</th>\n",
              "      <td>3627.018284</td>\n",
              "      <td>7</td>\n",
              "    </tr>\n",
              "    <tr>\n",
              "      <th>2020.05</th>\n",
              "      <td>3485.451140</td>\n",
              "      <td>228</td>\n",
              "    </tr>\n",
              "    <tr>\n",
              "      <th>2020.06</th>\n",
              "      <td>3921.407063</td>\n",
              "      <td>451</td>\n",
              "    </tr>\n",
              "    <tr>\n",
              "      <th>2020.07</th>\n",
              "      <td>4278.514405</td>\n",
              "      <td>288</td>\n",
              "    </tr>\n",
              "    <tr>\n",
              "      <th>2020.08</th>\n",
              "      <td>3946.923058</td>\n",
              "      <td>2267</td>\n",
              "    </tr>\n",
              "    <tr>\n",
              "      <th>2020.09</th>\n",
              "      <td>4781.994752</td>\n",
              "      <td>1424</td>\n",
              "    </tr>\n",
              "    <tr>\n",
              "      <th>2020.10</th>\n",
              "      <td>4481.853443</td>\n",
              "      <td>719</td>\n",
              "    </tr>\n",
              "    <tr>\n",
              "      <th>2020.11</th>\n",
              "      <td>4575.188323</td>\n",
              "      <td>2802</td>\n",
              "    </tr>\n",
              "    <tr>\n",
              "      <th>2020.12</th>\n",
              "      <td>5133.244940</td>\n",
              "      <td>10209</td>\n",
              "    </tr>\n",
              "    <tr>\n",
              "      <th>2021.01</th>\n",
              "      <td>4800.697370</td>\n",
              "      <td>5168</td>\n",
              "    </tr>\n",
              "    <tr>\n",
              "      <th>2021.02</th>\n",
              "      <td>4470.690692</td>\n",
              "      <td>4083</td>\n",
              "    </tr>\n",
              "    <tr>\n",
              "      <th>2021.03</th>\n",
              "      <td>5369.091432</td>\n",
              "      <td>3803</td>\n",
              "    </tr>\n",
              "    <tr>\n",
              "      <th>2021.04</th>\n",
              "      <td>5122.599140</td>\n",
              "      <td>5811</td>\n",
              "    </tr>\n",
              "    <tr>\n",
              "      <th>2021.05</th>\n",
              "      <td>5072.516125</td>\n",
              "      <td>6303</td>\n",
              "    </tr>\n",
              "    <tr>\n",
              "      <th>2021.06</th>\n",
              "      <td>5477.890495</td>\n",
              "      <td>6075</td>\n",
              "    </tr>\n",
              "    <tr>\n",
              "      <th>2021.07</th>\n",
              "      <td>5546.151816</td>\n",
              "      <td>14377</td>\n",
              "    </tr>\n",
              "    <tr>\n",
              "      <th>2021.08</th>\n",
              "      <td>5316.510379</td>\n",
              "      <td>15019</td>\n",
              "    </tr>\n",
              "    <tr>\n",
              "      <th>2021.09</th>\n",
              "      <td>5591.386237</td>\n",
              "      <td>21148</td>\n",
              "    </tr>\n",
              "    <tr>\n",
              "      <th>2021.10</th>\n",
              "      <td>5566.037264</td>\n",
              "      <td>19123</td>\n",
              "    </tr>\n",
              "    <tr>\n",
              "      <th>2021.11</th>\n",
              "      <td>6033.054226</td>\n",
              "      <td>34711</td>\n",
              "    </tr>\n",
              "    <tr>\n",
              "      <th>2021.12</th>\n",
              "      <td>6073.411667</td>\n",
              "      <td>70977</td>\n",
              "    </tr>\n",
              "    <tr>\n",
              "      <th>2022.01</th>\n",
              "      <td>5546.086528</td>\n",
              "      <td>52140</td>\n",
              "    </tr>\n",
              "    <tr>\n",
              "      <th>2022.02</th>\n",
              "      <td>5415.431273</td>\n",
              "      <td>498842</td>\n",
              "    </tr>\n",
              "    <tr>\n",
              "      <th>2022.03</th>\n",
              "      <td>6378.507849</td>\n",
              "      <td>1983383</td>\n",
              "    </tr>\n",
              "    <tr>\n",
              "      <th>2022.04</th>\n",
              "      <td>5784.915695</td>\n",
              "      <td>722562</td>\n",
              "    </tr>\n",
              "    <tr>\n",
              "      <th>2022.05</th>\n",
              "      <td>6157.989095</td>\n",
              "      <td>135270</td>\n",
              "    </tr>\n",
              "    <tr>\n",
              "      <th>2022.06</th>\n",
              "      <td>5762.585565</td>\n",
              "      <td>49289</td>\n",
              "    </tr>\n",
              "    <tr>\n",
              "      <th>2022.07</th>\n",
              "      <td>6069.957707</td>\n",
              "      <td>312023</td>\n",
              "    </tr>\n",
              "  </tbody>\n",
              "</table>\n",
              "</div>\n",
              "      <button class=\"colab-df-convert\" onclick=\"convertToInteractive('df-d63a5a06-ef56-40ee-934d-ff8013b4fb72')\"\n",
              "              title=\"Convert this dataframe to an interactive table.\"\n",
              "              style=\"display:none;\">\n",
              "        \n",
              "  <svg xmlns=\"http://www.w3.org/2000/svg\" height=\"24px\"viewBox=\"0 0 24 24\"\n",
              "       width=\"24px\">\n",
              "    <path d=\"M0 0h24v24H0V0z\" fill=\"none\"/>\n",
              "    <path d=\"M18.56 5.44l.94 2.06.94-2.06 2.06-.94-2.06-.94-.94-2.06-.94 2.06-2.06.94zm-11 1L8.5 8.5l.94-2.06 2.06-.94-2.06-.94L8.5 2.5l-.94 2.06-2.06.94zm10 10l.94 2.06.94-2.06 2.06-.94-2.06-.94-.94-2.06-.94 2.06-2.06.94z\"/><path d=\"M17.41 7.96l-1.37-1.37c-.4-.4-.92-.59-1.43-.59-.52 0-1.04.2-1.43.59L10.3 9.45l-7.72 7.72c-.78.78-.78 2.05 0 2.83L4 21.41c.39.39.9.59 1.41.59.51 0 1.02-.2 1.41-.59l7.78-7.78 2.81-2.81c.8-.78.8-2.07 0-2.86zM5.41 20L4 18.59l7.72-7.72 1.47 1.35L5.41 20z\"/>\n",
              "  </svg>\n",
              "      </button>\n",
              "      \n",
              "  <style>\n",
              "    .colab-df-container {\n",
              "      display:flex;\n",
              "      flex-wrap:wrap;\n",
              "      gap: 12px;\n",
              "    }\n",
              "\n",
              "    .colab-df-convert {\n",
              "      background-color: #E8F0FE;\n",
              "      border: none;\n",
              "      border-radius: 50%;\n",
              "      cursor: pointer;\n",
              "      display: none;\n",
              "      fill: #1967D2;\n",
              "      height: 32px;\n",
              "      padding: 0 0 0 0;\n",
              "      width: 32px;\n",
              "    }\n",
              "\n",
              "    .colab-df-convert:hover {\n",
              "      background-color: #E2EBFA;\n",
              "      box-shadow: 0px 1px 2px rgba(60, 64, 67, 0.3), 0px 1px 3px 1px rgba(60, 64, 67, 0.15);\n",
              "      fill: #174EA6;\n",
              "    }\n",
              "\n",
              "    [theme=dark] .colab-df-convert {\n",
              "      background-color: #3B4455;\n",
              "      fill: #D2E3FC;\n",
              "    }\n",
              "\n",
              "    [theme=dark] .colab-df-convert:hover {\n",
              "      background-color: #434B5C;\n",
              "      box-shadow: 0px 1px 3px 1px rgba(0, 0, 0, 0.15);\n",
              "      filter: drop-shadow(0px 1px 2px rgba(0, 0, 0, 0.3));\n",
              "      fill: #FFFFFF;\n",
              "    }\n",
              "  </style>\n",
              "\n",
              "      <script>\n",
              "        const buttonEl =\n",
              "          document.querySelector('#df-d63a5a06-ef56-40ee-934d-ff8013b4fb72 button.colab-df-convert');\n",
              "        buttonEl.style.display =\n",
              "          google.colab.kernel.accessAllowed ? 'block' : 'none';\n",
              "\n",
              "        async function convertToInteractive(key) {\n",
              "          const element = document.querySelector('#df-d63a5a06-ef56-40ee-934d-ff8013b4fb72');\n",
              "          const dataTable =\n",
              "            await google.colab.kernel.invokeFunction('convertToInteractive',\n",
              "                                                     [key], {});\n",
              "          if (!dataTable) return;\n",
              "\n",
              "          const docLinkHtml = 'Like what you see? Visit the ' +\n",
              "            '<a target=\"_blank\" href=https://colab.research.google.com/notebooks/data_table.ipynb>data table notebook</a>'\n",
              "            + ' to learn more about interactive tables.';\n",
              "          element.innerHTML = '';\n",
              "          dataTable['output_type'] = 'display_data';\n",
              "          await google.colab.output.renderOutput(dataTable, element);\n",
              "          const docLink = document.createElement('div');\n",
              "          docLink.innerHTML = docLinkHtml;\n",
              "          element.appendChild(docLink);\n",
              "        }\n",
              "      </script>\n",
              "    </div>\n",
              "  </div>\n",
              "  "
            ]
          },
          "metadata": {},
          "execution_count": 28
        }
      ]
    },
    {
      "cell_type": "code",
      "source": [
        "from statsmodels.tsa import stattools"
      ],
      "metadata": {
        "id": "3-7ouXx_ffM_"
      },
      "execution_count": 35,
      "outputs": []
    },
    {
      "cell_type": "markdown",
      "source": [
        "## ADF test (Argumented Dickey Fuller test)\n",
        "시계열이 비정상 시계열인지 정상시계열인지 판단하는 함수 <br>\n",
        "p value가 0.05기준보다 작으면 귀무가설(정상시계열이 아니다)를 기각하고 대립가설을 선택하여 데이터가 정상시계열임을 나타냄. <br>\n",
        "p value가 0.05기준보다 크면 귀무가설을 채택하여 비정상시계열임을 나타냄"
      ],
      "metadata": {
        "id": "koPQLOV6uMKm"
      }
    },
    {
      "cell_type": "code",
      "source": [
        "target = data.export.copy()\n",
        "integ_result = pd.Series(stattools.adfuller(target)[0:4], \n",
        "                         index=['Test Statistics', 'p-value', 'Used Lag', 'Used Observations'])\n",
        "Y1_integ_order = 0\n",
        "if integ_result[1] < 0.05:\n",
        "    Y1_integ_order = Y1_integ_order + 1\n",
        "print(integ_result[:])\n",
        "target = data.corona.copy()\n",
        "integ_result = pd.Series(stattools.adfuller(target)[0:4], \n",
        "                         index=['Test Statistics', 'p-value', 'Used Lag', 'Used Observations'])\n",
        "Y2_integ_order = 0\n",
        "if integ_result[1] < 0.05:\n",
        "    Y2_integ_order = Y2_integ_order + 1\n",
        "print(integ_result[:])\n",
        "print('Y1_order: ', Y1_integ_order, 'Y2_order: ', Y2_integ_order,'   ','1이면 정상시계열이고 0이면 정상시계열이 아니다')\n"
      ],
      "metadata": {
        "colab": {
          "base_uri": "https://localhost:8080/"
        },
        "id": "S2IaZfuKl7BC",
        "outputId": "6e0b6da7-f73b-45df-fdb8-9bc0e0b90dea"
      },
      "execution_count": 54,
      "outputs": [
        {
          "output_type": "stream",
          "name": "stdout",
          "text": [
            "Test Statistics      -2.928447\n",
            "p-value               0.042139\n",
            "Used Lag              7.000000\n",
            "Used Observations    23.000000\n",
            "dtype: float64\n",
            "Test Statistics       1.252329\n",
            "p-value               0.996328\n",
            "Used Lag              8.000000\n",
            "Used Observations    22.000000\n",
            "dtype: float64\n",
            "Y1_order:  1 Y2_order:  0     1이면 정상시계열이고 0이면 정상시계열이 아니다\n"
          ]
        }
      ]
    },
    {
      "cell_type": "markdown",
      "source": [
        "결과 : 수출 데이터는 정상시계열이고 코로나 감염자수는 비정상 시계열"
      ],
      "metadata": {
        "id": "E6zCijvnu2U_"
      }
    },
    {
      "cell_type": "markdown",
      "source": [
        "##차분\n",
        "Calculates the difference of a Dataframe element compared with another element in the Dataframe (default is element in previous row). <br>\n",
        "비정상시계열을 차분을 이용하여 정상시계열로 변환"
      ],
      "metadata": {
        "id": "cOsq1ODIotVu"
      }
    },
    {
      "cell_type": "code",
      "source": [
        "data['corona'].diff(1)"
      ],
      "metadata": {
        "colab": {
          "base_uri": "https://localhost:8080/"
        },
        "id": "kwQsfeL4ofK2",
        "outputId": "4b4f2bfb-a07d-49cc-8193-73b5191c4531"
      },
      "execution_count": 58,
      "outputs": [
        {
          "output_type": "execute_result",
          "data": {
            "text/plain": [
              "2020.01          NaN\n",
              "2020.02          0.0\n",
              "2020.03          0.0\n",
              "2020.04          7.0\n",
              "2020.05        221.0\n",
              "2020.06        223.0\n",
              "2020.07       -163.0\n",
              "2020.08       1979.0\n",
              "2020.09       -843.0\n",
              "2020.10       -705.0\n",
              "2020.11       2083.0\n",
              "2020.12       7407.0\n",
              "2021.01      -5041.0\n",
              "2021.02      -1085.0\n",
              "2021.03       -280.0\n",
              "2021.04       2008.0\n",
              "2021.05        492.0\n",
              "2021.06       -228.0\n",
              "2021.07       8302.0\n",
              "2021.08        642.0\n",
              "2021.09       6129.0\n",
              "2021.10      -2025.0\n",
              "2021.11      15588.0\n",
              "2021.12      36266.0\n",
              "2022.01     -18837.0\n",
              "2022.02     446702.0\n",
              "2022.03    1484541.0\n",
              "2022.04   -1260821.0\n",
              "2022.05    -587292.0\n",
              "2022.06     -85981.0\n",
              "2022.07     262734.0\n",
              "Name: corona, dtype: float64"
            ]
          },
          "metadata": {},
          "execution_count": 58
        }
      ]
    },
    {
      "cell_type": "code",
      "source": [
        "target = data.corona.diff(1).dropna().copy()\n",
        "integ_result = pd.Series(stattools.adfuller(target)[0:4], \n",
        "                         index=['Test Statistics', 'p-value', 'Used Lag', 'Used Observations'])\n",
        "Y3_integ_order = 0\n",
        "if integ_result[1] < 0.05:\n",
        "    Y3_integ_order = Y3_integ_order + 1\n",
        "print(integ_result[:])\n",
        "print('Y3_order: ', Y3_integ_order,'   ','1이면 정상시계열이고 0이면 정상시계열이 아니다')"
      ],
      "metadata": {
        "colab": {
          "base_uri": "https://localhost:8080/"
        },
        "id": "92Rn618_vqL-",
        "outputId": "1359bc18-17a7-4bc2-d1fd-9848e8adb962"
      },
      "execution_count": 132,
      "outputs": [
        {
          "output_type": "stream",
          "name": "stdout",
          "text": [
            "Test Statistics       3.536538\n",
            "p-value               1.000000\n",
            "Used Lag              7.000000\n",
            "Used Observations    22.000000\n",
            "dtype: float64\n",
            "Y3_order:  0     1이면 정상시계열이고 0이면 정상시계열이 아니다\n"
          ]
        }
      ]
    },
    {
      "cell_type": "code",
      "source": [
        "import matplotlib.pyplot as plt\n",
        "\n",
        "plt.plot(target)\n",
        "plt.xticks(rotation = 270)\n",
        "plt.show()"
      ],
      "metadata": {
        "colab": {
          "base_uri": "https://localhost:8080/",
          "height": 308
        },
        "id": "baQuVxkM9Baf",
        "outputId": "d7d34f3b-4d2a-4f2b-c8b5-32ff43640921"
      },
      "execution_count": 133,
      "outputs": [
        {
          "output_type": "display_data",
          "data": {
            "text/plain": [
              "<Figure size 432x288 with 1 Axes>"
            ],
            "image/png": "[encoded data removed]"
          },
          "metadata": {
            "needs_background": "light"
          }
        }
      ]
    },
    {
      "cell_type": "code",
      "source": [
        "import numpy as np\n",
        "a=np.log(data['corona'])\n",
        "a = a.replace(-np.inf, np.nan)\n",
        "a = a.dropna()\n",
        "data2 = pd.DataFrame({'export' : export_2020+export_2021+export_2022, 'corona' : a},index = date_2020+date_2021+date_2022)"
      ],
      "metadata": {
        "colab": {
          "base_uri": "https://localhost:8080/"
        },
        "id": "zNp61JEbwK6f",
        "outputId": "325976bf-0968-4864-b743-eb7c66a97daa"
      },
      "execution_count": 145,
      "outputs": [
        {
          "output_type": "stream",
          "name": "stderr",
          "text": [
            "/usr/local/lib/python3.7/dist-packages/pandas/core/arraylike.py:364: RuntimeWarning: divide by zero encountered in log\n",
            "  result = getattr(ufunc, method)(*inputs, **kwargs)\n"
          ]
        }
      ]
    },
    {
      "cell_type": "code",
      "source": [
        "data2.head()\n",
        "data2.fillna(0)"
      ],
      "metadata": {
        "colab": {
          "base_uri": "https://localhost:8080/",
          "height": 1000
        },
        "id": "09vjWM9sAEmf",
        "outputId": "f23ce19d-c939-4d81-c145-24042de80a10"
      },
      "execution_count": 147,
      "outputs": [
        {
          "output_type": "execute_result",
          "data": {
            "text/plain": [
              "              export     corona\n",
              "2020.01  4310.306086   0.000000\n",
              "2020.02  4091.181880   0.000000\n",
              "2020.03  4616.720385   0.000000\n",
              "2020.04  3627.018284   1.945910\n",
              "2020.05  3485.451140   5.429346\n",
              "2020.06  3921.407063   6.111467\n",
              "2020.07  4278.514405   5.662960\n",
              "2020.08  3946.923058   7.726213\n",
              "2020.09  4781.994752   7.261225\n",
              "2020.10  4481.853443   6.577861\n",
              "2020.11  4575.188323   7.938089\n",
              "2020.12  5133.244940   9.231025\n",
              "2021.01  4800.697370   8.550241\n",
              "2021.02  4470.690692   8.314587\n",
              "2021.03  5369.091432   8.243546\n",
              "2021.04  5122.599140   8.667508\n",
              "2021.05  5072.516125   8.748781\n",
              "2021.06  5477.890495   8.711937\n",
              "2021.07  5546.151816   9.573385\n",
              "2021.08  5316.510379   9.617071\n",
              "2021.09  5591.386237   9.959301\n",
              "2021.10  5566.037264   9.858647\n",
              "2021.11  6033.054226  10.454812\n",
              "2021.12  6073.411667  11.170111\n",
              "2022.01  5546.086528  10.861688\n",
              "2022.02  5415.431273  13.120045\n",
              "2022.03  6378.507849  14.500315\n",
              "2022.04  5784.915695  13.490559\n",
              "2022.05  6157.989095  11.815028\n",
              "2022.06  5762.585565  10.805456\n",
              "2022.07  6069.957707  12.650832"
            ],
            "text/html": [
              "\n",
              "  <div id=\"df-6f341ed5-d4d9-4161-b8ed-e94333bf09d2\">\n",
              "    <div class=\"colab-df-container\">\n",
              "      <div>\n",
              "<style scoped>\n",
              "    .dataframe tbody tr th:only-of-type {\n",
              "        vertical-align: middle;\n",
              "    }\n",
              "\n",
              "    .dataframe tbody tr th {\n",
              "        vertical-align: top;\n",
              "    }\n",
              "\n",
              "    .dataframe thead th {\n",
              "        text-align: right;\n",
              "    }\n",
              "</style>\n",
              "<table border=\"1\" class=\"dataframe\">\n",
              "  <thead>\n",
              "    <tr style=\"text-align: right;\">\n",
              "      <th></th>\n",
              "      <th>export</th>\n",
              "      <th>corona</th>\n",
              "    </tr>\n",
              "  </thead>\n",
              "  <tbody>\n",
              "    <tr>\n",
              "      <th>2020.01</th>\n",
              "      <td>4310.306086</td>\n",
              "      <td>0.000000</td>\n",
              "    </tr>\n",
              "    <tr>\n",
              "      <th>2020.02</th>\n",
              "      <td>4091.181880</td>\n",
              "      <td>0.000000</td>\n",
              "    </tr>\n",
              "    <tr>\n",
              "      <th>2020.03</th>\n",
              "      <td>4616.720385</td>\n",
              "      <td>0.000000</td>\n",
              "    </tr>\n",
              "    <tr>\n",
              "      <th>2020.04</th>\n",
              "      <td>3627.018284</td>\n",
              "      <td>1.945910</td>\n",
              "    </tr>\n",
              "    <tr>\n",
              "      <th>2020.05</th>\n",
              "      <td>3485.451140</td>\n",
              "      <td>5.429346</td>\n",
              "    </tr>\n",
              "    <tr>\n",
              "      <th>2020.06</th>\n",
              "      <td>3921.407063</td>\n",
              "      <td>6.111467</td>\n",
              "    </tr>\n",
              "    <tr>\n",
              "      <th>2020.07</th>\n",
              "      <td>4278.514405</td>\n",
              "      <td>5.662960</td>\n",
              "    </tr>\n",
              "    <tr>\n",
              "      <th>2020.08</th>\n",
              "      <td>3946.923058</td>\n",
              "      <td>7.726213</td>\n",
              "    </tr>\n",
              "    <tr>\n",
              "      <th>2020.09</th>\n",
              "      <td>4781.994752</td>\n",
              "      <td>7.261225</td>\n",
              "    </tr>\n",
              "    <tr>\n",
              "      <th>2020.10</th>\n",
              "      <td>4481.853443</td>\n",
              "      <td>6.577861</td>\n",
              "    </tr>\n",
              "    <tr>\n",
              "      <th>2020.11</th>\n",
              "      <td>4575.188323</td>\n",
              "      <td>7.938089</td>\n",
              "    </tr>\n",
              "    <tr>\n",
              "      <th>2020.12</th>\n",
              "      <td>5133.244940</td>\n",
              "      <td>9.231025</td>\n",
              "    </tr>\n",
              "    <tr>\n",
              "      <th>2021.01</th>\n",
              "      <td>4800.697370</td>\n",
              "      <td>8.550241</td>\n",
              "    </tr>\n",
              "    <tr>\n",
              "      <th>2021.02</th>\n",
              "      <td>4470.690692</td>\n",
              "      <td>8.314587</td>\n",
              "    </tr>\n",
              "    <tr>\n",
              "      <th>2021.03</th>\n",
              "      <td>5369.091432</td>\n",
              "      <td>8.243546</td>\n",
              "    </tr>\n",
              "    <tr>\n",
              "      <th>2021.04</th>\n",
              "      <td>5122.599140</td>\n",
              "      <td>8.667508</td>\n",
              "    </tr>\n",
              "    <tr>\n",
              "      <th>2021.05</th>\n",
              "      <td>5072.516125</td>\n",
              "      <td>8.748781</td>\n",
              "    </tr>\n",
              "    <tr>\n",
              "      <th>2021.06</th>\n",
              "      <td>5477.890495</td>\n",
              "      <td>8.711937</td>\n",
              "    </tr>\n",
              "    <tr>\n",
              "      <th>2021.07</th>\n",
              "      <td>5546.151816</td>\n",
              "      <td>9.573385</td>\n",
              "    </tr>\n",
              "    <tr>\n",
              "      <th>2021.08</th>\n",
              "      <td>5316.510379</td>\n",
              "      <td>9.617071</td>\n",
              "    </tr>\n",
              "    <tr>\n",
              "      <th>2021.09</th>\n",
              "      <td>5591.386237</td>\n",
              "      <td>9.959301</td>\n",
              "    </tr>\n",
              "    <tr>\n",
              "      <th>2021.10</th>\n",
              "      <td>5566.037264</td>\n",
              "      <td>9.858647</td>\n",
              "    </tr>\n",
              "    <tr>\n",
              "      <th>2021.11</th>\n",
              "      <td>6033.054226</td>\n",
              "      <td>10.454812</td>\n",
              "    </tr>\n",
              "    <tr>\n",
              "      <th>2021.12</th>\n",
              "      <td>6073.411667</td>\n",
              "      <td>11.170111</td>\n",
              "    </tr>\n",
              "    <tr>\n",
              "      <th>2022.01</th>\n",
              "      <td>5546.086528</td>\n",
              "      <td>10.861688</td>\n",
              "    </tr>\n",
              "    <tr>\n",
              "      <th>2022.02</th>\n",
              "      <td>5415.431273</td>\n",
              "      <td>13.120045</td>\n",
              "    </tr>\n",
              "    <tr>\n",
              "      <th>2022.03</th>\n",
              "      <td>6378.507849</td>\n",
              "      <td>14.500315</td>\n",
              "    </tr>\n",
              "    <tr>\n",
              "      <th>2022.04</th>\n",
              "      <td>5784.915695</td>\n",
              "      <td>13.490559</td>\n",
              "    </tr>\n",
              "    <tr>\n",
              "      <th>2022.05</th>\n",
              "      <td>6157.989095</td>\n",
              "      <td>11.815028</td>\n",
              "    </tr>\n",
              "    <tr>\n",
              "      <th>2022.06</th>\n",
              "      <td>5762.585565</td>\n",
              "      <td>10.805456</td>\n",
              "    </tr>\n",
              "    <tr>\n",
              "      <th>2022.07</th>\n",
              "      <td>6069.957707</td>\n",
              "      <td>12.650832</td>\n",
              "    </tr>\n",
              "  </tbody>\n",
              "</table>\n",
              "</div>\n",
              "      <button class=\"colab-df-convert\" onclick=\"convertToInteractive('df-6f341ed5-d4d9-4161-b8ed-e94333bf09d2')\"\n",
              "              title=\"Convert this dataframe to an interactive table.\"\n",
              "              style=\"display:none;\">\n",
              "        \n",
              "  <svg xmlns=\"http://www.w3.org/2000/svg\" height=\"24px\"viewBox=\"0 0 24 24\"\n",
              "       width=\"24px\">\n",
              "    <path d=\"M0 0h24v24H0V0z\" fill=\"none\"/>\n",
              "    <path d=\"M18.56 5.44l.94 2.06.94-2.06 2.06-.94-2.06-.94-.94-2.06-.94 2.06-2.06.94zm-11 1L8.5 8.5l.94-2.06 2.06-.94-2.06-.94L8.5 2.5l-.94 2.06-2.06.94zm10 10l.94 2.06.94-2.06 2.06-.94-2.06-.94-.94-2.06-.94 2.06-2.06.94z\"/><path d=\"M17.41 7.96l-1.37-1.37c-.4-.4-.92-.59-1.43-.59-.52 0-1.04.2-1.43.59L10.3 9.45l-7.72 7.72c-.78.78-.78 2.05 0 2.83L4 21.41c.39.39.9.59 1.41.59.51 0 1.02-.2 1.41-.59l7.78-7.78 2.81-2.81c.8-.78.8-2.07 0-2.86zM5.41 20L4 18.59l7.72-7.72 1.47 1.35L5.41 20z\"/>\n",
              "  </svg>\n",
              "      </button>\n",
              "      \n",
              "  <style>\n",
              "    .colab-df-container {\n",
              "      display:flex;\n",
              "      flex-wrap:wrap;\n",
              "      gap: 12px;\n",
              "    }\n",
              "\n",
              "    .colab-df-convert {\n",
              "      background-color: #E8F0FE;\n",
              "      border: none;\n",
              "      border-radius: 50%;\n",
              "      cursor: pointer;\n",
              "      display: none;\n",
              "      fill: #1967D2;\n",
              "      height: 32px;\n",
              "      padding: 0 0 0 0;\n",
              "      width: 32px;\n",
              "    }\n",
              "\n",
              "    .colab-df-convert:hover {\n",
              "      background-color: #E2EBFA;\n",
              "      box-shadow: 0px 1px 2px rgba(60, 64, 67, 0.3), 0px 1px 3px 1px rgba(60, 64, 67, 0.15);\n",
              "      fill: #174EA6;\n",
              "    }\n",
              "\n",
              "    [theme=dark] .colab-df-convert {\n",
              "      background-color: #3B4455;\n",
              "      fill: #D2E3FC;\n",
              "    }\n",
              "\n",
              "    [theme=dark] .colab-df-convert:hover {\n",
              "      background-color: #434B5C;\n",
              "      box-shadow: 0px 1px 3px 1px rgba(0, 0, 0, 0.15);\n",
              "      filter: drop-shadow(0px 1px 2px rgba(0, 0, 0, 0.3));\n",
              "      fill: #FFFFFF;\n",
              "    }\n",
              "  </style>\n",
              "\n",
              "      <script>\n",
              "        const buttonEl =\n",
              "          document.querySelector('#df-6f341ed5-d4d9-4161-b8ed-e94333bf09d2 button.colab-df-convert');\n",
              "        buttonEl.style.display =\n",
              "          google.colab.kernel.accessAllowed ? 'block' : 'none';\n",
              "\n",
              "        async function convertToInteractive(key) {\n",
              "          const element = document.querySelector('#df-6f341ed5-d4d9-4161-b8ed-e94333bf09d2');\n",
              "          const dataTable =\n",
              "            await google.colab.kernel.invokeFunction('convertToInteractive',\n",
              "                                                     [key], {});\n",
              "          if (!dataTable) return;\n",
              "\n",
              "          const docLinkHtml = 'Like what you see? Visit the ' +\n",
              "            '<a target=\"_blank\" href=https://colab.research.google.com/notebooks/data_table.ipynb>data table notebook</a>'\n",
              "            + ' to learn more about interactive tables.';\n",
              "          element.innerHTML = '';\n",
              "          dataTable['output_type'] = 'display_data';\n",
              "          await google.colab.output.renderOutput(dataTable, element);\n",
              "          const docLink = document.createElement('div');\n",
              "          docLink.innerHTML = docLinkHtml;\n",
              "          element.appendChild(docLink);\n",
              "        }\n",
              "      </script>\n",
              "    </div>\n",
              "  </div>\n",
              "  "
            ]
          },
          "metadata": {},
          "execution_count": 147
        }
      ]
    },
    {
      "cell_type": "code",
      "source": [
        "target = a.copy()\n",
        "integ_result = pd.Series(stattools.adfuller(target)[0:4], \n",
        "                         index=['Test Statistics', 'p-value', 'Used Lag', 'Used Observations'])\n",
        "Y3_integ_order = 0\n",
        "if integ_result[1] < 0.05:\n",
        "    Y3_integ_order = Y3_integ_order + 1\n",
        "print(integ_result[:])\n",
        "print('Y3_order: ', Y3_integ_order,'   ','1이면 정상시계열이고 0이면 정상시계열이 아니다')"
      ],
      "metadata": {
        "colab": {
          "base_uri": "https://localhost:8080/"
        },
        "id": "NrVMtnth4LDe",
        "outputId": "2321b288-0da9-443d-8efd-1efe621eef42"
      },
      "execution_count": 141,
      "outputs": [
        {
          "output_type": "stream",
          "name": "stdout",
          "text": [
            "Test Statistics      -1.518799\n",
            "p-value               0.524192\n",
            "Used Lag              2.000000\n",
            "Used Observations    25.000000\n",
            "dtype: float64\n",
            "Y3_order:  0     1이면 정상시계열이고 0이면 정상시계열이 아니다\n"
          ]
        }
      ]
    },
    {
      "cell_type": "code",
      "source": [
        "plt.plot(target)\n",
        "plt.xticks(rotation = 270)\n",
        "plt.show()"
      ],
      "metadata": {
        "colab": {
          "base_uri": "https://localhost:8080/",
          "height": 297
        },
        "id": "a__OHgF09au_",
        "outputId": "c6ad8af9-e291-48a7-e624-5587b06be6e8"
      },
      "execution_count": 142,
      "outputs": [
        {
          "output_type": "display_data",
          "data": {
            "text/plain": [
              "<Figure size 432x288 with 1 Axes>"
            ],
            "image/png": "[encoded data removed]"
          },
          "metadata": {
            "needs_background": "light"
          }
        }
      ]
    },
    {
      "cell_type": "code",
      "source": [
        "b = a.diff(1)\n",
        "b = b.dropna()\n",
        "target = b.copy()\n",
        "integ_result = pd.Series(stattools.adfuller(target)[0:4], \n",
        "                         index=['Test Statistics', 'p-value', 'Used Lag', 'Used Observations'])\n",
        "Y3_integ_order = 0\n",
        "if integ_result[1] < 0.05:\n",
        "    Y3_integ_order = Y3_integ_order + 1\n",
        "print(integ_result[:])\n",
        "print('Y3_order: ', Y3_integ_order,'   ','1이면 정상시계열이고 0이면 정상시계열이 아니다')"
      ],
      "metadata": {
        "colab": {
          "base_uri": "https://localhost:8080/"
        },
        "id": "RhrDZTST52RJ",
        "outputId": "1baa1b43-9f8d-436a-a410-b3b3c4c974e7"
      },
      "execution_count": 136,
      "outputs": [
        {
          "output_type": "stream",
          "name": "stdout",
          "text": [
            "Test Statistics      -2.339483\n",
            "p-value               0.159550\n",
            "Used Lag              6.000000\n",
            "Used Observations    20.000000\n",
            "dtype: float64\n",
            "Y3_order:  0     1이면 정상시계열이고 0이면 정상시계열이 아니다\n"
          ]
        }
      ]
    },
    {
      "cell_type": "code",
      "source": [
        "plt.plot(target)\n",
        "plt.xticks(rotation = 270)\n",
        "plt.show()"
      ],
      "metadata": {
        "colab": {
          "base_uri": "https://localhost:8080/",
          "height": 297
        },
        "id": "BdXOHhMz95wG",
        "outputId": "d7b97f40-c337-41e2-e1d2-7bd65f03a203"
      },
      "execution_count": 137,
      "outputs": [
        {
          "output_type": "display_data",
          "data": {
            "text/plain": [
              "<Figure size 432x288 with 1 Axes>"
            ],
            "image/png": "[encoded data removed]"
          },
          "metadata": {
            "needs_background": "light"
          }
        }
      ]
    },
    {
      "cell_type": "markdown",
      "source": [
        "추가확진은 이미 차분되어진 데이터이기 때문에 정상성 시계열 그래프를 만들기 위해서 로그를 취해주었지만 p value 가 0.15 이상이어서 정상성을 가진다고 할 수 없었다. <br>\n",
        "Corona가 무역 수출에 영향을 준것으로 나타났지만 log corona 데이터가 정상성을 만족한다고 할 수 없기 때문에 오해석할 여지가 크다."
      ],
      "metadata": {
        "id": "eLyiXl0J_XIn"
      }
    },
    {
      "cell_type": "code",
      "source": [
        "print('export -> corona') \n",
        "granger_result1 = stattools.grangercausalitytests(data.dropna().iloc[:,[0,1]], maxlag=7, verbose=True)\n",
        "print('corona -> export')\n",
        "data2 = pd.merge(data['export'],data['corona'].diff(1), on = data.index)\n",
        "granger_result2 = stattools.grangercausalitytests(data2.dropna().iloc[:,[1,0]].values, maxlag=2, verbose=True)"
      ],
      "metadata": {
        "colab": {
          "base_uri": "https://localhost:8080/"
        },
        "id": "FNtP8xipmu6m",
        "outputId": "1ad17c36-e619-426e-f90a-12a10595b4ea"
      },
      "execution_count": 148,
      "outputs": [
        {
          "output_type": "stream",
          "name": "stdout",
          "text": [
            "export -> corona\n",
            "\n",
            "Granger Causality\n",
            "number of lags (no zero) 1\n",
            "ssr based F test:         F=0.0105  , p=0.9190  , df_denom=27, df_num=1\n",
            "ssr based chi2 test:   chi2=0.0117  , p=0.9138  , df=1\n",
            "likelihood ratio test: chi2=0.0117  , p=0.9138  , df=1\n",
            "parameter F test:         F=0.0105  , p=0.9190  , df_denom=27, df_num=1\n",
            "\n",
            "Granger Causality\n",
            "number of lags (no zero) 2\n",
            "ssr based F test:         F=0.0222  , p=0.9781  , df_denom=24, df_num=2\n",
            "ssr based chi2 test:   chi2=0.0536  , p=0.9736  , df=2\n",
            "likelihood ratio test: chi2=0.0535  , p=0.9736  , df=2\n",
            "parameter F test:         F=0.0222  , p=0.9781  , df_denom=24, df_num=2\n",
            "\n",
            "Granger Causality\n",
            "number of lags (no zero) 3\n",
            "ssr based F test:         F=0.5010  , p=0.6857  , df_denom=21, df_num=3\n",
            "ssr based chi2 test:   chi2=2.0040  , p=0.5716  , df=3\n",
            "likelihood ratio test: chi2=1.9355  , p=0.5859  , df=3\n",
            "parameter F test:         F=0.5010  , p=0.6857  , df_denom=21, df_num=3\n",
            "\n",
            "Granger Causality\n",
            "number of lags (no zero) 4\n",
            "ssr based F test:         F=0.7957  , p=0.5434  , df_denom=18, df_num=4\n",
            "ssr based chi2 test:   chi2=4.7742  , p=0.3113  , df=4\n",
            "likelihood ratio test: chi2=4.3961  , p=0.3551  , df=4\n",
            "parameter F test:         F=0.7957  , p=0.5434  , df_denom=18, df_num=4\n",
            "\n",
            "Granger Causality\n",
            "number of lags (no zero) 5\n",
            "ssr based F test:         F=0.3579  , p=0.8692  , df_denom=15, df_num=5\n",
            "ssr based chi2 test:   chi2=3.1015  , p=0.6843  , df=5\n",
            "likelihood ratio test: chi2=2.9300  , p=0.7108  , df=5\n",
            "parameter F test:         F=0.3579  , p=0.8692  , df_denom=15, df_num=5\n",
            "\n",
            "Granger Causality\n",
            "number of lags (no zero) 6\n",
            "ssr based F test:         F=0.6796  , p=0.6695  , df_denom=12, df_num=6\n",
            "ssr based chi2 test:   chi2=8.4954  , p=0.2040  , df=6\n",
            "likelihood ratio test: chi2=7.3133  , p=0.2928  , df=6\n",
            "parameter F test:         F=0.6796  , p=0.6695  , df_denom=12, df_num=6\n",
            "\n",
            "Granger Causality\n",
            "number of lags (no zero) 7\n",
            "ssr based F test:         F=0.2585  , p=0.9559  , df_denom=9, df_num=7\n",
            "ssr based chi2 test:   chi2=4.8245  , p=0.6814  , df=7\n",
            "likelihood ratio test: chi2=4.3961  , p=0.7332  , df=7\n",
            "parameter F test:         F=0.2585  , p=0.9559  , df_denom=9, df_num=7\n",
            "corona -> export\n",
            "\n",
            "Granger Causality\n",
            "number of lags (no zero) 1\n",
            "ssr based F test:         F=7.4762  , p=0.0111  , df_denom=26, df_num=1\n",
            "ssr based chi2 test:   chi2=8.3388  , p=0.0039  , df=1\n",
            "likelihood ratio test: chi2=7.3294  , p=0.0068  , df=1\n",
            "parameter F test:         F=7.4762  , p=0.0111  , df_denom=26, df_num=1\n",
            "\n",
            "Granger Causality\n",
            "number of lags (no zero) 2\n",
            "ssr based F test:         F=4.3960  , p=0.0242  , df_denom=23, df_num=2\n",
            "ssr based chi2 test:   chi2=10.7034 , p=0.0047  , df=2\n",
            "likelihood ratio test: chi2=9.0642  , p=0.0108  , df=2\n",
            "parameter F test:         F=4.3960  , p=0.0242  , df_denom=23, df_num=2\n"
          ]
        }
      ]
    }
  ]
}