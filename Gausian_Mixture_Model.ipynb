{
  "nbformat": 4,
  "nbformat_minor": 0,
  "metadata": {
    "colab": {
      "provenance": [],
      "authorship_tag": "ABX9TyOII8KT87wrgbK2BVPQFHNr",
      "include_colab_link": true
    },
    "kernelspec": {
      "name": "python3",
      "display_name": "Python 3"
    },
    "language_info": {
      "name": "python"
    }
  },
  "cells": [
    {
      "cell_type": "markdown",
      "metadata": {
        "id": "view-in-github",
        "colab_type": "text"
      },
      "source": [
        "<a href=\"https://colab.research.google.com/github/Mongsel8/Data-Anaysis/blob/main/Gausian_Mixture_Model.ipynb\" target=\"_parent\"><img src=\"https://colab.research.google.com/assets/colab-badge.svg\" alt=\"Open In Colab\"/></a>"
      ]
    },
    {
      "cell_type": "markdown",
      "source": [
        "#GMM(Gausian Mixture Model)"
      ],
      "metadata": {
        "id": "4hiyTnBKghjB"
      }
    },
    {
      "cell_type": "markdown",
      "source": [
        "가우시안 믹스쳐 모델은 군집화를 적용하고자 하는 데이터가 여러개의 가우시안 분포를 가진 데이터 집합이 섞여서 생성된 것이라고 가정<br>"
      ],
      "metadata": {
        "id": "4hJqrNy4gsOv"
      }
    },
    {
      "cell_type": "markdown",
      "source": [
        "##가우시안 모수 추정"
      ],
      "metadata": {
        "id": "KfTKqSYRg3sz"
      }
    },
    {
      "cell_type": "markdown",
      "source": [
        " - 개별 정규 분포의 평균과 분산\n",
        " - 각 데이터가 어떤 정규분포에 해당 되는지의 확률\n",
        "<br>\n",
        "모수 추정을 위해 Expectation and Maximization 방법을 사용\n"
      ],
      "metadata": {
        "id": "QOaS6zm7g6ZG"
      }
    },
    {
      "cell_type": "code",
      "source": [
        "from sklearn.datasets import load_iris\n",
        "from sklearn.cluster import KMeans\n",
        "\n",
        "import matplotlib.pyplot as plt\n",
        "import numpy as np\n",
        "import pandas as pd\n",
        "%matplotlib inline\n"
      ],
      "metadata": {
        "id": "UwswHrjShqGE"
      },
      "execution_count": 2,
      "outputs": []
    },
    {
      "cell_type": "code",
      "source": [
        "iris = load_iris()\n",
        "df = pd.DataFrame(iris.data)\n",
        "df['target'] = iris.target"
      ],
      "metadata": {
        "id": "bHpHVmS7h09S"
      },
      "execution_count": 3,
      "outputs": []
    },
    {
      "cell_type": "code",
      "source": [
        "from sklearn.mixture import GaussianMixture\n",
        "gmm = GaussianMixture(n_components = 3, random_state = 0).fit(iris.data)\n",
        "gmm_cluster_labels = gmm.predict(iris.data)\n",
        "\n",
        "# 군집화 결과를 df의 gmm cluster 칼럼명으로 저장\n",
        "df['cluster'] = gmm_cluster_labels\n",
        "\n",
        "#target 값에 따라 gmmcluster값이 어떻게 매핑되었는 지 확인\n",
        "iris_result = df.groupby(['target'])['cluster'].value_counts()\n",
        "print(iris_result)"
      ],
      "metadata": {
        "colab": {
          "base_uri": "https://localhost:8080/"
        },
        "id": "Xq5GF__FiCeD",
        "outputId": "5b016140-cff4-4927-be56-198511ffbd88"
      },
      "execution_count": 5,
      "outputs": [
        {
          "output_type": "stream",
          "name": "stdout",
          "text": [
            "target  cluster\n",
            "0       0          50\n",
            "1       2          45\n",
            "        1           5\n",
            "2       1          50\n",
            "Name: cluster, dtype: int64\n"
          ]
        }
      ]
    },
    {
      "cell_type": "code",
      "source": [
        "kmeans = KMeans(n_clusters = 3).fit(iris.data)\n",
        "cluster_labels = kmeans.predict(iris.data)\n",
        "df['kmeans_cluster'] = cluster_labels\n",
        "res = df.groupby(['target'])['kmeans_cluster'].value_counts()\n",
        "print(res)"
      ],
      "metadata": {
        "colab": {
          "base_uri": "https://localhost:8080/"
        },
        "id": "z2mOUBT6ixaa",
        "outputId": "aa771f94-6e7f-4ead-f965-cda9310b60e3"
      },
      "execution_count": 7,
      "outputs": [
        {
          "output_type": "stream",
          "name": "stdout",
          "text": [
            "target  kmeans_cluster\n",
            "0       1                 50\n",
            "1       0                 48\n",
            "        2                  2\n",
            "2       2                 36\n",
            "        0                 14\n",
            "Name: kmeans_cluster, dtype: int64\n"
          ]
        }
      ]
    },
    {
      "cell_type": "markdown",
      "source": [
        "KMeans는 원형이 아니라 타원형이면 군집화를 제대로 수행하지 못한다. 이런경우 가우시안 믹스쳐 모델을 사용하면 더 좋은 군집화를 할 수 있다."
      ],
      "metadata": {
        "id": "Nav_na7EjQjD"
      }
    }
  ]
}